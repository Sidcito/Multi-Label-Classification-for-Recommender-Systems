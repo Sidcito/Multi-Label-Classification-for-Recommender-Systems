{
 "cells": [
  {
   "cell_type": "markdown",
   "metadata": {},
   "source": [
    "# Multi-Label Classification formed on Morphed Data on Banking Services"
   ]
  },
  {
   "cell_type": "code",
   "execution_count": 175,
   "metadata": {},
   "outputs": [
    {
     "name": "stdout",
     "output_type": "stream",
     "text": [
      "Populating the interactive namespace from numpy and matplotlib\n"
     ]
    },
    {
     "name": "stderr",
     "output_type": "stream",
     "text": [
      "/anaconda3/lib/python3.6/site-packages/IPython/core/magics/pylab.py:160: UserWarning: pylab import has clobbered these variables: ['f', 'std', 'indices']\n",
      "`%matplotlib` prevents importing * from pylab and numpy\n",
      "  \"\\n`%matplotlib` prevents importing * from pylab and numpy\"\n"
     ]
    }
   ],
   "source": [
    "import numpy as np\n",
    "import pandas as pd\n",
    "import matplotlib.pyplot as plt\n",
    "import seaborn as sns\n",
    "%pylab inline\n",
    "pylab.rcParams['figure.figsize'] = (10, 6) "
   ]
  },
  {
   "cell_type": "code",
   "execution_count": 176,
   "metadata": {
    "collapsed": true
   },
   "outputs": [],
   "source": [
    "client_data= pd.read_csv(\".../table_client.csv\", sep=\";\")\n",
    "contract_data= pd.read_csv(\".../table_contrat.csv\", sep=\";\")"
   ]
  },
  {
   "cell_type": "markdown",
   "metadata": {},
   "source": [
    "# CLIENT DATA EXPLORATION AND FEATURE ENGINEERING"
   ]
  },
  {
   "cell_type": "code",
   "execution_count": 177,
   "metadata": {},
   "outputs": [
    {
     "name": "stdout",
     "output_type": "stream",
     "text": [
      "<class 'pandas.core.frame.DataFrame'>\n",
      "RangeIndex: 10926 entries, 0 to 10925\n",
      "Data columns (total 6 columns):\n",
      "ID                10926 non-null int64\n",
      "DATE_ENTREE       10926 non-null object\n",
      "DATE_NAISSANCE    10926 non-null object\n",
      "DET_VOITURE       10926 non-null int64\n",
      "CSP               10926 non-null object\n",
      "REVENUS_MOYENS    10926 non-null float64\n",
      "dtypes: float64(1), int64(2), object(3)\n",
      "memory usage: 512.2+ KB\n"
     ]
    }
   ],
   "source": [
    "client_data.info()"
   ]
  },
  {
   "cell_type": "code",
   "execution_count": 178,
   "metadata": {},
   "outputs": [
    {
     "data": {
      "text/plain": [
       "array(['Artisan', 'Retraite', 'Cadre', 'Etudiant', 'Profession liberale'], dtype=object)"
      ]
     },
     "execution_count": 178,
     "metadata": {},
     "output_type": "execute_result"
    }
   ],
   "source": [
    "client_data.CSP.unique()"
   ]
  },
  {
   "cell_type": "code",
   "execution_count": 179,
   "metadata": {
    "collapsed": true
   },
   "outputs": [],
   "source": [
    "client_data[\"DATE_ENTREE\"] = pd.to_datetime(client_data[\"DATE_ENTREE\"],format=\"%Y-%m-%d\")\n",
    "client_data[\"DATE_NAISSANCE\"] = pd.to_datetime(client_data[\"DATE_NAISSANCE\"],format=\"%Y-%m-%d\")"
   ]
  },
  {
   "cell_type": "markdown",
   "metadata": {},
   "source": [
    "# Client Feature Engineering"
   ]
  },
  {
   "cell_type": "code",
   "execution_count": 180,
   "metadata": {
    "collapsed": true
   },
   "outputs": [],
   "source": [
    "#Extracting Age from the Date of Birth\n",
    "client_data['BIRTH_YEAR'] = pd.DatetimeIndex(client_data['DATE_NAISSANCE']).year"
   ]
  },
  {
   "cell_type": "code",
   "execution_count": 181,
   "metadata": {
    "collapsed": true
   },
   "outputs": [],
   "source": [
    "client_data[\"AGE\"]= (2018) - client_data[\"BIRTH_YEAR\"]"
   ]
  },
  {
   "cell_type": "code",
   "execution_count": 182,
   "metadata": {},
   "outputs": [
    {
     "data": {
      "text/plain": [
       "count    10926.000000\n",
       "mean        49.740161\n",
       "std         19.629230\n",
       "min          2.000000\n",
       "25%         36.000000\n",
       "50%         50.000000\n",
       "75%         64.000000\n",
       "max         98.000000\n",
       "Name: AGE, dtype: float64"
      ]
     },
     "execution_count": 182,
     "metadata": {},
     "output_type": "execute_result"
    }
   ],
   "source": [
    "client_data[\"AGE\"].describe()"
   ]
  },
  {
   "cell_type": "code",
   "execution_count": 183,
   "metadata": {},
   "outputs": [
    {
     "data": {
      "image/png": "[encoded data removed]",
      "text/plain": [
       "<matplotlib.figure.Figure at 0x11bab88d0>"
      ]
     },
     "metadata": {},
     "output_type": "display_data"
    }
   ],
   "source": [
    "with sns.plotting_context(\"notebook\",font_scale=1):\n",
    "    sns.set_style(\"whitegrid\")\n",
    "    sns.distplot(client_data[\"AGE\"].dropna(),\n",
    "                 bins=80,\n",
    "                 color=\"orange\")\n",
    "    plt.title(\"Distribution of Age\")\n",
    "    plt.show();"
   ]
  },
  {
   "cell_type": "code",
   "execution_count": 184,
   "metadata": {
    "collapsed": true
   },
   "outputs": [],
   "source": [
    "#Age Categories\n",
    "client_data['Jeune'] = client_data['AGE'].map(lambda s: 1 if s <= 25 else 0)\n",
    "client_data['Age Moyen'] = client_data['AGE'].map(lambda s: 1 if  25 < s <= 50  else 0)\n",
    "client_data['Aine'] = client_data['AGE'].map(lambda s: 1 if 50 < s <= 75 else 0)\n",
    "client_data['Vieux'] = client_data['AGE'].map(lambda s: 1 if s > 75 else 0)"
   ]
  },
  {
   "cell_type": "code",
   "execution_count": 185,
   "metadata": {
    "collapsed": true
   },
   "outputs": [],
   "source": [
    "#Socio-Professional Categories\n",
    "from sklearn.preprocessing import LabelEncoder\n",
    "client_data['CSP'] = LabelEncoder().fit_transform(client_data['CSP'])\n",
    "client_data['Artisan'] = client_data['CSP'].map(lambda s: 1 if s == 0 else 0)\n",
    "client_data['Cadre'] = client_data['CSP'].map(lambda s: 1 if  s == 1  else 0)\n",
    "client_data['Etudiant'] = client_data['CSP'].map(lambda s: 1 if s == 2 else 0)\n",
    "client_data['Profession liberale'] = client_data['CSP'].map(lambda s: 1 if s == 3 else 0)\n",
    "client_data['Retraite'] = client_data['CSP'].map(lambda s: 1 if s == 4 else 0)"
   ]
  },
  {
   "cell_type": "code",
   "execution_count": 186,
   "metadata": {},
   "outputs": [
    {
     "data": {
      "text/plain": [
       "count    10926.000000\n",
       "mean      2421.829020\n",
       "std       1656.855216\n",
       "min          0.000000\n",
       "25%       1500.000000\n",
       "50%       2081.029685\n",
       "75%       3375.428821\n",
       "max       9009.922154\n",
       "Name: REVENUS_MOYENS, dtype: float64"
      ]
     },
     "execution_count": 186,
     "metadata": {},
     "output_type": "execute_result"
    }
   ],
   "source": [
    "client_data[\"REVENUS_MOYENS\"].describe()"
   ]
  },
  {
   "cell_type": "code",
   "execution_count": 187,
   "metadata": {},
   "outputs": [
    {
     "data": {
      "image/png": "[encoded data removed]",
      "text/plain": [
       "<matplotlib.figure.Figure at 0x11aad3c50>"
      ]
     },
     "metadata": {},
     "output_type": "display_data"
    }
   ],
   "source": [
    "with sns.plotting_context(\"notebook\",font_scale=1):\n",
    "    sns.set_style(\"whitegrid\")\n",
    "    sns.distplot(client_data[\"REVENUS_MOYENS\"].dropna(),\n",
    "                 bins=80,\n",
    "                 color=\"green\")\n",
    "    plt.title(\"Distribution of Individual Yearly Income\")\n",
    "    plt.show();"
   ]
  },
  {
   "cell_type": "code",
   "execution_count": 188,
   "metadata": {
    "collapsed": true
   },
   "outputs": [],
   "source": [
    "#Yearly Income Categories\n",
    "client_data['REVENUS_Groupe1'] = client_data['REVENUS_MOYENS'].map(lambda s: 1 if s <= 1500 else 0)\n",
    "client_data['REVENUS_Groupe2'] = client_data['REVENUS_MOYENS'].map(lambda s: 1 if  1500 < s <= 2000  else 0)\n",
    "client_data['REVENUS_Groupe3'] = client_data['REVENUS_MOYENS'].map(lambda s: 1 if 2000 < s <= 3300 else 0)\n",
    "client_data['REVENUS_Groupe4'] = client_data['REVENUS_MOYENS'].map(lambda s: 1 if s > 3300 else 0)"
   ]
  },
  {
   "cell_type": "code",
   "execution_count": 189,
   "metadata": {
    "collapsed": true
   },
   "outputs": [],
   "source": [
    "client_data.drop([\"DATE_NAISSANCE\",\"CSP\",\"REVENUS_MOYENS\",\"BIRTH_YEAR\",\"AGE\",], axis = 1, inplace = True)"
   ]
  },
  {
   "cell_type": "code",
   "execution_count": 190,
   "metadata": {},
   "outputs": [
    {
     "data": {
      "text/html": [
       "<div>\n",
       "<style>\n",
       "    .dataframe thead tr:only-child th {\n",
       "        text-align: right;\n",
       "    }\n",
       "\n",
       "    .dataframe thead th {\n",
       "        text-align: left;\n",
       "    }\n",
       "\n",
       "    .dataframe tbody tr th {\n",
       "        vertical-align: top;\n",
       "    }\n",
       "</style>\n",
       "<table border=\"1\" class=\"dataframe\">\n",
       "  <thead>\n",
       "    <tr style=\"text-align: right;\">\n",
       "      <th></th>\n",
       "      <th>ID</th>\n",
       "      <th>DATE_ENTREE</th>\n",
       "      <th>DET_VOITURE</th>\n",
       "      <th>Jeune</th>\n",
       "      <th>Age Moyen</th>\n",
       "      <th>Aine</th>\n",
       "      <th>Vieux</th>\n",
       "      <th>Artisan</th>\n",
       "      <th>Cadre</th>\n",
       "      <th>Etudiant</th>\n",
       "      <th>Profession liberale</th>\n",
       "      <th>Retraite</th>\n",
       "      <th>REVENUS_Groupe1</th>\n",
       "      <th>REVENUS_Groupe2</th>\n",
       "      <th>REVENUS_Groupe3</th>\n",
       "      <th>REVENUS_Groupe4</th>\n",
       "    </tr>\n",
       "  </thead>\n",
       "  <tbody>\n",
       "    <tr>\n",
       "      <th>0</th>\n",
       "      <td>2509621</td>\n",
       "      <td>1970-01-02</td>\n",
       "      <td>0</td>\n",
       "      <td>0</td>\n",
       "      <td>0</td>\n",
       "      <td>1</td>\n",
       "      <td>0</td>\n",
       "      <td>1</td>\n",
       "      <td>0</td>\n",
       "      <td>0</td>\n",
       "      <td>0</td>\n",
       "      <td>0</td>\n",
       "      <td>0</td>\n",
       "      <td>0</td>\n",
       "      <td>1</td>\n",
       "      <td>0</td>\n",
       "    </tr>\n",
       "    <tr>\n",
       "      <th>1</th>\n",
       "      <td>2571758</td>\n",
       "      <td>1970-01-03</td>\n",
       "      <td>0</td>\n",
       "      <td>0</td>\n",
       "      <td>0</td>\n",
       "      <td>1</td>\n",
       "      <td>0</td>\n",
       "      <td>1</td>\n",
       "      <td>0</td>\n",
       "      <td>0</td>\n",
       "      <td>0</td>\n",
       "      <td>0</td>\n",
       "      <td>0</td>\n",
       "      <td>0</td>\n",
       "      <td>1</td>\n",
       "      <td>0</td>\n",
       "    </tr>\n",
       "    <tr>\n",
       "      <th>2</th>\n",
       "      <td>2016544</td>\n",
       "      <td>1970-01-04</td>\n",
       "      <td>1</td>\n",
       "      <td>0</td>\n",
       "      <td>0</td>\n",
       "      <td>1</td>\n",
       "      <td>0</td>\n",
       "      <td>0</td>\n",
       "      <td>0</td>\n",
       "      <td>0</td>\n",
       "      <td>0</td>\n",
       "      <td>1</td>\n",
       "      <td>1</td>\n",
       "      <td>0</td>\n",
       "      <td>0</td>\n",
       "      <td>0</td>\n",
       "    </tr>\n",
       "    <tr>\n",
       "      <th>3</th>\n",
       "      <td>2540057</td>\n",
       "      <td>1970-01-09</td>\n",
       "      <td>1</td>\n",
       "      <td>0</td>\n",
       "      <td>0</td>\n",
       "      <td>0</td>\n",
       "      <td>1</td>\n",
       "      <td>0</td>\n",
       "      <td>0</td>\n",
       "      <td>0</td>\n",
       "      <td>0</td>\n",
       "      <td>1</td>\n",
       "      <td>1</td>\n",
       "      <td>0</td>\n",
       "      <td>0</td>\n",
       "      <td>0</td>\n",
       "    </tr>\n",
       "    <tr>\n",
       "      <th>4</th>\n",
       "      <td>2538908</td>\n",
       "      <td>1970-01-09</td>\n",
       "      <td>1</td>\n",
       "      <td>0</td>\n",
       "      <td>0</td>\n",
       "      <td>0</td>\n",
       "      <td>1</td>\n",
       "      <td>0</td>\n",
       "      <td>0</td>\n",
       "      <td>0</td>\n",
       "      <td>0</td>\n",
       "      <td>1</td>\n",
       "      <td>1</td>\n",
       "      <td>0</td>\n",
       "      <td>0</td>\n",
       "      <td>0</td>\n",
       "    </tr>\n",
       "  </tbody>\n",
       "</table>\n",
       "</div>"
      ],
      "text/plain": [
       "        ID DATE_ENTREE  DET_VOITURE  Jeune  Age Moyen  Aine  Vieux  Artisan  \\\n",
       "0  2509621  1970-01-02            0      0          0     1      0        1   \n",
       "1  2571758  1970-01-03            0      0          0     1      0        1   \n",
       "2  2016544  1970-01-04            1      0          0     1      0        0   \n",
       "3  2540057  1970-01-09            1      0          0     0      1        0   \n",
       "4  2538908  1970-01-09            1      0          0     0      1        0   \n",
       "\n",
       "   Cadre  Etudiant  Profession liberale  Retraite  REVENUS_Groupe1  \\\n",
       "0      0         0                    0         0                0   \n",
       "1      0         0                    0         0                0   \n",
       "2      0         0                    0         1                1   \n",
       "3      0         0                    0         1                1   \n",
       "4      0         0                    0         1                1   \n",
       "\n",
       "   REVENUS_Groupe2  REVENUS_Groupe3  REVENUS_Groupe4  \n",
       "0                0                1                0  \n",
       "1                0                1                0  \n",
       "2                0                0                0  \n",
       "3                0                0                0  \n",
       "4                0                0                0  "
      ]
     },
     "execution_count": 190,
     "metadata": {},
     "output_type": "execute_result"
    }
   ],
   "source": [
    "client_data.head()"
   ]
  },
  {
   "cell_type": "code",
   "execution_count": 191,
   "metadata": {
    "collapsed": true,
    "scrolled": true
   },
   "outputs": [],
   "source": [
    "agg_client_data= client_data.groupby(['ID']).agg({'DET_VOITURE': sum,\n",
    "                                                 'Jeune': sum, 'Age Moyen': sum,\n",
    "                                                 'Aine': sum, 'Vieux': sum, 'Artisan': sum,\n",
    "                                                 'Cadre': sum, 'Etudiant': sum,\n",
    "                                                 'Profession liberale': sum, 'Retraite': sum,\n",
    "                                                 'REVENUS_Groupe1': sum, 'REVENUS_Groupe2': sum,\n",
    "                                                 'REVENUS_Groupe3': sum, 'REVENUS_Groupe4': sum})"
   ]
  },
  {
   "cell_type": "code",
   "execution_count": 192,
   "metadata": {},
   "outputs": [
    {
     "data": {
      "text/html": [
       "<div>\n",
       "<style>\n",
       "    .dataframe thead tr:only-child th {\n",
       "        text-align: right;\n",
       "    }\n",
       "\n",
       "    .dataframe thead th {\n",
       "        text-align: left;\n",
       "    }\n",
       "\n",
       "    .dataframe tbody tr th {\n",
       "        vertical-align: top;\n",
       "    }\n",
       "</style>\n",
       "<table border=\"1\" class=\"dataframe\">\n",
       "  <thead>\n",
       "    <tr style=\"text-align: right;\">\n",
       "      <th></th>\n",
       "      <th>DET_VOITURE</th>\n",
       "      <th>Jeune</th>\n",
       "      <th>Age Moyen</th>\n",
       "      <th>Aine</th>\n",
       "      <th>Vieux</th>\n",
       "      <th>Artisan</th>\n",
       "      <th>Cadre</th>\n",
       "      <th>Etudiant</th>\n",
       "      <th>Profession liberale</th>\n",
       "      <th>Retraite</th>\n",
       "      <th>REVENUS_Groupe1</th>\n",
       "      <th>REVENUS_Groupe2</th>\n",
       "      <th>REVENUS_Groupe3</th>\n",
       "      <th>REVENUS_Groupe4</th>\n",
       "    </tr>\n",
       "    <tr>\n",
       "      <th>ID</th>\n",
       "      <th></th>\n",
       "      <th></th>\n",
       "      <th></th>\n",
       "      <th></th>\n",
       "      <th></th>\n",
       "      <th></th>\n",
       "      <th></th>\n",
       "      <th></th>\n",
       "      <th></th>\n",
       "      <th></th>\n",
       "      <th></th>\n",
       "      <th></th>\n",
       "      <th></th>\n",
       "      <th></th>\n",
       "    </tr>\n",
       "  </thead>\n",
       "  <tbody>\n",
       "    <tr>\n",
       "      <th>1000076</th>\n",
       "      <td>1</td>\n",
       "      <td>0</td>\n",
       "      <td>0</td>\n",
       "      <td>1</td>\n",
       "      <td>0</td>\n",
       "      <td>0</td>\n",
       "      <td>1</td>\n",
       "      <td>0</td>\n",
       "      <td>0</td>\n",
       "      <td>0</td>\n",
       "      <td>0</td>\n",
       "      <td>0</td>\n",
       "      <td>0</td>\n",
       "      <td>1</td>\n",
       "    </tr>\n",
       "    <tr>\n",
       "      <th>1000409</th>\n",
       "      <td>0</td>\n",
       "      <td>0</td>\n",
       "      <td>1</td>\n",
       "      <td>0</td>\n",
       "      <td>0</td>\n",
       "      <td>0</td>\n",
       "      <td>1</td>\n",
       "      <td>0</td>\n",
       "      <td>0</td>\n",
       "      <td>0</td>\n",
       "      <td>0</td>\n",
       "      <td>0</td>\n",
       "      <td>1</td>\n",
       "      <td>0</td>\n",
       "    </tr>\n",
       "    <tr>\n",
       "      <th>1000537</th>\n",
       "      <td>1</td>\n",
       "      <td>0</td>\n",
       "      <td>1</td>\n",
       "      <td>0</td>\n",
       "      <td>0</td>\n",
       "      <td>0</td>\n",
       "      <td>0</td>\n",
       "      <td>0</td>\n",
       "      <td>1</td>\n",
       "      <td>0</td>\n",
       "      <td>0</td>\n",
       "      <td>0</td>\n",
       "      <td>0</td>\n",
       "      <td>1</td>\n",
       "    </tr>\n",
       "    <tr>\n",
       "      <th>1000568</th>\n",
       "      <td>1</td>\n",
       "      <td>0</td>\n",
       "      <td>0</td>\n",
       "      <td>1</td>\n",
       "      <td>0</td>\n",
       "      <td>0</td>\n",
       "      <td>1</td>\n",
       "      <td>0</td>\n",
       "      <td>0</td>\n",
       "      <td>0</td>\n",
       "      <td>0</td>\n",
       "      <td>0</td>\n",
       "      <td>0</td>\n",
       "      <td>1</td>\n",
       "    </tr>\n",
       "    <tr>\n",
       "      <th>1000656</th>\n",
       "      <td>1</td>\n",
       "      <td>0</td>\n",
       "      <td>0</td>\n",
       "      <td>1</td>\n",
       "      <td>0</td>\n",
       "      <td>0</td>\n",
       "      <td>0</td>\n",
       "      <td>0</td>\n",
       "      <td>0</td>\n",
       "      <td>1</td>\n",
       "      <td>1</td>\n",
       "      <td>0</td>\n",
       "      <td>0</td>\n",
       "      <td>0</td>\n",
       "    </tr>\n",
       "  </tbody>\n",
       "</table>\n",
       "</div>"
      ],
      "text/plain": [
       "         DET_VOITURE  Jeune  Age Moyen  Aine  Vieux  Artisan  Cadre  Etudiant  \\\n",
       "ID                                                                              \n",
       "1000076            1      0          0     1      0        0      1         0   \n",
       "1000409            0      0          1     0      0        0      1         0   \n",
       "1000537            1      0          1     0      0        0      0         0   \n",
       "1000568            1      0          0     1      0        0      1         0   \n",
       "1000656            1      0          0     1      0        0      0         0   \n",
       "\n",
       "         Profession liberale  Retraite  REVENUS_Groupe1  REVENUS_Groupe2  \\\n",
       "ID                                                                         \n",
       "1000076                    0         0                0                0   \n",
       "1000409                    0         0                0                0   \n",
       "1000537                    1         0                0                0   \n",
       "1000568                    0         0                0                0   \n",
       "1000656                    0         1                1                0   \n",
       "\n",
       "         REVENUS_Groupe3  REVENUS_Groupe4  \n",
       "ID                                         \n",
       "1000076                0                1  \n",
       "1000409                1                0  \n",
       "1000537                0                1  \n",
       "1000568                0                1  \n",
       "1000656                0                0  "
      ]
     },
     "execution_count": 192,
     "metadata": {},
     "output_type": "execute_result"
    }
   ],
   "source": [
    "agg_client_data.head()"
   ]
  },
  {
   "cell_type": "markdown",
   "metadata": {},
   "source": [
    "# CONTRACT DATA EXPLORATION AND FEATURE ENGINEERING"
   ]
  },
  {
   "cell_type": "code",
   "execution_count": 193,
   "metadata": {
    "scrolled": true
   },
   "outputs": [
    {
     "name": "stdout",
     "output_type": "stream",
     "text": [
      "<class 'pandas.core.frame.DataFrame'>\n",
      "RangeIndex: 14800 entries, 0 to 14799\n",
      "Data columns (total 5 columns):\n",
      "PRODUIT           14800 non-null object\n",
      "SOLDE             14800 non-null float64\n",
      "ID                14800 non-null int64\n",
      "DATE_OUVERTURE    14800 non-null object\n",
      "DATE_CLOTURE      4648 non-null object\n",
      "dtypes: float64(1), int64(1), object(3)\n",
      "memory usage: 578.2+ KB\n"
     ]
    }
   ],
   "source": [
    "contract_data.info()"
   ]
  },
  {
   "cell_type": "code",
   "execution_count": 194,
   "metadata": {
    "collapsed": true
   },
   "outputs": [],
   "source": [
    "contract_data[\"DATE_OUVERTURE\"] = pd.to_datetime(contract_data[\"DATE_OUVERTURE\"],format=\"%Y-%m-%d\")\n",
    "contract_data[\"DATE_CLOTURE\"] = pd.to_datetime(contract_data[\"DATE_CLOTURE\"],format=\"%Y-%m-%d\")"
   ]
  },
  {
   "cell_type": "code",
   "execution_count": 195,
   "metadata": {},
   "outputs": [
    {
     "data": {
      "text/html": [
       "<div>\n",
       "<style>\n",
       "    .dataframe thead tr:only-child th {\n",
       "        text-align: right;\n",
       "    }\n",
       "\n",
       "    .dataframe thead th {\n",
       "        text-align: left;\n",
       "    }\n",
       "\n",
       "    .dataframe tbody tr th {\n",
       "        vertical-align: top;\n",
       "    }\n",
       "</style>\n",
       "<table border=\"1\" class=\"dataframe\">\n",
       "  <thead>\n",
       "    <tr style=\"text-align: right;\">\n",
       "      <th></th>\n",
       "      <th>PRODUIT</th>\n",
       "      <th>SOLDE</th>\n",
       "      <th>ID</th>\n",
       "      <th>DATE_OUVERTURE</th>\n",
       "      <th>DATE_CLOTURE</th>\n",
       "    </tr>\n",
       "  </thead>\n",
       "  <tbody>\n",
       "    <tr>\n",
       "      <th>0</th>\n",
       "      <td>Livret A</td>\n",
       "      <td>20000.000000</td>\n",
       "      <td>2509621</td>\n",
       "      <td>1970-01-02</td>\n",
       "      <td>1998-11-27</td>\n",
       "    </tr>\n",
       "    <tr>\n",
       "      <th>1</th>\n",
       "      <td>Livret A</td>\n",
       "      <td>20000.000000</td>\n",
       "      <td>2571758</td>\n",
       "      <td>1970-01-03</td>\n",
       "      <td>NaT</td>\n",
       "    </tr>\n",
       "    <tr>\n",
       "      <th>2</th>\n",
       "      <td>Assurance Vie</td>\n",
       "      <td>27113.444455</td>\n",
       "      <td>2571758</td>\n",
       "      <td>2001-11-13</td>\n",
       "      <td>NaT</td>\n",
       "    </tr>\n",
       "    <tr>\n",
       "      <th>3</th>\n",
       "      <td>Livret A</td>\n",
       "      <td>20000.000000</td>\n",
       "      <td>2016544</td>\n",
       "      <td>1970-01-04</td>\n",
       "      <td>NaT</td>\n",
       "    </tr>\n",
       "    <tr>\n",
       "      <th>4</th>\n",
       "      <td>Livret A</td>\n",
       "      <td>20000.000000</td>\n",
       "      <td>2540057</td>\n",
       "      <td>1970-01-09</td>\n",
       "      <td>NaT</td>\n",
       "    </tr>\n",
       "  </tbody>\n",
       "</table>\n",
       "</div>"
      ],
      "text/plain": [
       "         PRODUIT         SOLDE       ID DATE_OUVERTURE DATE_CLOTURE\n",
       "0       Livret A  20000.000000  2509621     1970-01-02   1998-11-27\n",
       "1       Livret A  20000.000000  2571758     1970-01-03          NaT\n",
       "2  Assurance Vie  27113.444455  2571758     2001-11-13          NaT\n",
       "3       Livret A  20000.000000  2016544     1970-01-04          NaT\n",
       "4       Livret A  20000.000000  2540057     1970-01-09          NaT"
      ]
     },
     "execution_count": 195,
     "metadata": {},
     "output_type": "execute_result"
    }
   ],
   "source": [
    "contract_data.head()"
   ]
  },
  {
   "cell_type": "code",
   "execution_count": 196,
   "metadata": {},
   "outputs": [
    {
     "data": {
      "text/plain": [
       "array(['Livret A', 'Assurance Vie', 'PEA', 'Credit Immobilier'], dtype=object)"
      ]
     },
     "execution_count": 196,
     "metadata": {},
     "output_type": "execute_result"
    }
   ],
   "source": [
    "contract_data.PRODUIT.unique()"
   ]
  },
  {
   "cell_type": "markdown",
   "metadata": {},
   "source": [
    "# Contract Feature Engineering"
   ]
  },
  {
   "cell_type": "code",
   "execution_count": 197,
   "metadata": {
    "collapsed": true
   },
   "outputs": [],
   "source": [
    "#Product Categorization\n",
    "contract_data['PRODUIT'] = LabelEncoder().fit_transform(contract_data['PRODUIT'])\n",
    "contract_data['Assurance Vie'] = contract_data['PRODUIT'].map(lambda s: 1 if s == 0 else 0)\n",
    "contract_data['Credit Immobilier'] = contract_data['PRODUIT'].map(lambda s: 1 if  s == 1  else 0)\n",
    "contract_data['Livret A'] = contract_data['PRODUIT'].map(lambda s: 1 if s == 2 else 0)\n",
    "contract_data['PEA'] = contract_data['PRODUIT'].map(lambda s: 1 if s == 3 else 0)\n",
    "contract_data.drop([\"PRODUIT\"], axis = 1, inplace = True)"
   ]
  },
  {
   "cell_type": "code",
   "execution_count": 198,
   "metadata": {
    "collapsed": true
   },
   "outputs": [],
   "source": [
    "contract_data['ANS_CLOTURE'] = pd.DatetimeIndex(contract_data['DATE_CLOTURE']).year\n",
    "contract_data['ANS_CLOTURE'].fillna(0, inplace=True)"
   ]
  },
  {
   "cell_type": "code",
   "execution_count": 199,
   "metadata": {
    "collapsed": true
   },
   "outputs": [],
   "source": [
    "# Determining if a product is ongoing or not\n",
    "contract_data['ONGOING'] = contract_data['ANS_CLOTURE'].map(lambda s: 1 if s == 0.0 else 0)\n",
    "contract_data.drop([\"DATE_CLOTURE\",\"ANS_CLOTURE\"], axis = 1, inplace = True)"
   ]
  },
  {
   "cell_type": "code",
   "execution_count": 200,
   "metadata": {
    "collapsed": true
   },
   "outputs": [],
   "source": [
    "agg_contract_data= contract_data.groupby(['ID']).agg({'Assurance Vie':sum, 'Credit Immobilier': sum, \n",
    "                                                      'Livret A': sum, 'PEA': sum, 'SOLDE': sum, 'ONGOING': sum})"
   ]
  },
  {
   "cell_type": "code",
   "execution_count": 201,
   "metadata": {
    "collapsed": true
   },
   "outputs": [],
   "source": [
    "agg_contract_data['ONGOING_0'] = agg_contract_data['ONGOING'].map(lambda s: 1 if s == 0 else 0)\n",
    "agg_contract_data['ONGOING_1'] = agg_contract_data['ONGOING'].map(lambda s: 1 if s == 1 else 0)\n",
    "agg_contract_data['ONGOING_2'] = agg_contract_data['ONGOING'].map(lambda s: 1 if s == 2 else 0)\n",
    "agg_contract_data['ONGOING_3'] = agg_contract_data['ONGOING'].map(lambda s: 1 if s == 3 else 0)\n",
    "agg_contract_data['ONGOING_4'] = agg_contract_data['ONGOING'].map(lambda s: 1 if s == 4 else 0)\n",
    "agg_contract_data.drop([\"ONGOING\"], axis = 1, inplace = True)"
   ]
  },
  {
   "cell_type": "code",
   "execution_count": 202,
   "metadata": {},
   "outputs": [
    {
     "data": {
      "text/plain": [
       "count     10926.000000\n",
       "mean      39629.782442\n",
       "std       73669.368822\n",
       "min     -335674.406640\n",
       "25%        5443.780184\n",
       "50%       20000.000000\n",
       "75%       44784.106557\n",
       "max      738780.620313\n",
       "Name: SOLDE, dtype: float64"
      ]
     },
     "execution_count": 202,
     "metadata": {},
     "output_type": "execute_result"
    }
   ],
   "source": [
    "#Looking into the Solde\n",
    "agg_contract_data[\"SOLDE\"].describe()"
   ]
  },
  {
   "cell_type": "code",
   "execution_count": 203,
   "metadata": {},
   "outputs": [
    {
     "data": {
      "image/png": "[encoded data removed]",
      "text/plain": [
       "<matplotlib.figure.Figure at 0x118fb69e8>"
      ]
     },
     "metadata": {},
     "output_type": "display_data"
    }
   ],
   "source": [
    "with sns.plotting_context(\"notebook\",font_scale=1):\n",
    "    sns.set_style(\"whitegrid\")\n",
    "    sns.distplot(contract_data[\"SOLDE\"].dropna(),\n",
    "                 bins=80,\n",
    "                 color=\"black\")\n",
    "    plt.title(\"Distribution of Present Savings\")\n",
    "    plt.show();"
   ]
  },
  {
   "cell_type": "code",
   "execution_count": 204,
   "metadata": {
    "collapsed": true
   },
   "outputs": [],
   "source": [
    "agg_contract_data['SOLDE_Groupe1'] = agg_contract_data['SOLDE'].map(lambda s: 1 if s <= 1000 else 0)\n",
    "agg_contract_data['SOLDE_Groupe2'] = agg_contract_data['SOLDE'].map(lambda s: 1 if  1000 < s <= 5500  else 0)\n",
    "agg_contract_data['SOLDE_Groupe3'] = agg_contract_data['SOLDE'].map(lambda s: 1 if 5500 < s <= 20000 else 0)\n",
    "agg_contract_data['SOLDE_Groupe4'] = agg_contract_data['SOLDE'].map(lambda s: 1 if 20000 < s <= 45000 else 0)\n",
    "agg_contract_data['SOLDE_Groupe5'] = agg_contract_data['SOLDE'].map(lambda s: 1 if s > 45000 else 0)\n",
    "agg_contract_data.drop([\"SOLDE\"], axis = 1, inplace = True)"
   ]
  },
  {
   "cell_type": "code",
   "execution_count": 205,
   "metadata": {},
   "outputs": [
    {
     "data": {
      "text/html": [
       "<div>\n",
       "<style>\n",
       "    .dataframe thead tr:only-child th {\n",
       "        text-align: right;\n",
       "    }\n",
       "\n",
       "    .dataframe thead th {\n",
       "        text-align: left;\n",
       "    }\n",
       "\n",
       "    .dataframe tbody tr th {\n",
       "        vertical-align: top;\n",
       "    }\n",
       "</style>\n",
       "<table border=\"1\" class=\"dataframe\">\n",
       "  <thead>\n",
       "    <tr style=\"text-align: right;\">\n",
       "      <th></th>\n",
       "      <th>Assurance Vie</th>\n",
       "      <th>Credit Immobilier</th>\n",
       "      <th>Livret A</th>\n",
       "      <th>PEA</th>\n",
       "      <th>ONGOING_0</th>\n",
       "      <th>ONGOING_1</th>\n",
       "      <th>ONGOING_2</th>\n",
       "      <th>ONGOING_3</th>\n",
       "      <th>ONGOING_4</th>\n",
       "      <th>SOLDE_Groupe1</th>\n",
       "      <th>SOLDE_Groupe2</th>\n",
       "      <th>SOLDE_Groupe3</th>\n",
       "      <th>SOLDE_Groupe4</th>\n",
       "      <th>SOLDE_Groupe5</th>\n",
       "    </tr>\n",
       "    <tr>\n",
       "      <th>ID</th>\n",
       "      <th></th>\n",
       "      <th></th>\n",
       "      <th></th>\n",
       "      <th></th>\n",
       "      <th></th>\n",
       "      <th></th>\n",
       "      <th></th>\n",
       "      <th></th>\n",
       "      <th></th>\n",
       "      <th></th>\n",
       "      <th></th>\n",
       "      <th></th>\n",
       "      <th></th>\n",
       "      <th></th>\n",
       "    </tr>\n",
       "  </thead>\n",
       "  <tbody>\n",
       "    <tr>\n",
       "      <th>1000076</th>\n",
       "      <td>0</td>\n",
       "      <td>0</td>\n",
       "      <td>0</td>\n",
       "      <td>1</td>\n",
       "      <td>0</td>\n",
       "      <td>1</td>\n",
       "      <td>0</td>\n",
       "      <td>0</td>\n",
       "      <td>0</td>\n",
       "      <td>0</td>\n",
       "      <td>0</td>\n",
       "      <td>0</td>\n",
       "      <td>0</td>\n",
       "      <td>1</td>\n",
       "    </tr>\n",
       "    <tr>\n",
       "      <th>1000409</th>\n",
       "      <td>0</td>\n",
       "      <td>0</td>\n",
       "      <td>1</td>\n",
       "      <td>0</td>\n",
       "      <td>0</td>\n",
       "      <td>1</td>\n",
       "      <td>0</td>\n",
       "      <td>0</td>\n",
       "      <td>0</td>\n",
       "      <td>0</td>\n",
       "      <td>0</td>\n",
       "      <td>1</td>\n",
       "      <td>0</td>\n",
       "      <td>0</td>\n",
       "    </tr>\n",
       "    <tr>\n",
       "      <th>1000537</th>\n",
       "      <td>1</td>\n",
       "      <td>0</td>\n",
       "      <td>1</td>\n",
       "      <td>0</td>\n",
       "      <td>0</td>\n",
       "      <td>0</td>\n",
       "      <td>1</td>\n",
       "      <td>0</td>\n",
       "      <td>0</td>\n",
       "      <td>0</td>\n",
       "      <td>0</td>\n",
       "      <td>0</td>\n",
       "      <td>0</td>\n",
       "      <td>1</td>\n",
       "    </tr>\n",
       "    <tr>\n",
       "      <th>1000568</th>\n",
       "      <td>1</td>\n",
       "      <td>0</td>\n",
       "      <td>0</td>\n",
       "      <td>0</td>\n",
       "      <td>0</td>\n",
       "      <td>1</td>\n",
       "      <td>0</td>\n",
       "      <td>0</td>\n",
       "      <td>0</td>\n",
       "      <td>0</td>\n",
       "      <td>0</td>\n",
       "      <td>0</td>\n",
       "      <td>0</td>\n",
       "      <td>1</td>\n",
       "    </tr>\n",
       "    <tr>\n",
       "      <th>1000656</th>\n",
       "      <td>1</td>\n",
       "      <td>0</td>\n",
       "      <td>1</td>\n",
       "      <td>0</td>\n",
       "      <td>0</td>\n",
       "      <td>1</td>\n",
       "      <td>0</td>\n",
       "      <td>0</td>\n",
       "      <td>0</td>\n",
       "      <td>0</td>\n",
       "      <td>0</td>\n",
       "      <td>0</td>\n",
       "      <td>0</td>\n",
       "      <td>1</td>\n",
       "    </tr>\n",
       "  </tbody>\n",
       "</table>\n",
       "</div>"
      ],
      "text/plain": [
       "         Assurance Vie  Credit Immobilier  Livret A  PEA  ONGOING_0  \\\n",
       "ID                                                                    \n",
       "1000076              0                  0         0    1          0   \n",
       "1000409              0                  0         1    0          0   \n",
       "1000537              1                  0         1    0          0   \n",
       "1000568              1                  0         0    0          0   \n",
       "1000656              1                  0         1    0          0   \n",
       "\n",
       "         ONGOING_1  ONGOING_2  ONGOING_3  ONGOING_4  SOLDE_Groupe1  \\\n",
       "ID                                                                   \n",
       "1000076          1          0          0          0              0   \n",
       "1000409          1          0          0          0              0   \n",
       "1000537          0          1          0          0              0   \n",
       "1000568          1          0          0          0              0   \n",
       "1000656          1          0          0          0              0   \n",
       "\n",
       "         SOLDE_Groupe2  SOLDE_Groupe3  SOLDE_Groupe4  SOLDE_Groupe5  \n",
       "ID                                                                   \n",
       "1000076              0              0              0              1  \n",
       "1000409              0              1              0              0  \n",
       "1000537              0              0              0              1  \n",
       "1000568              0              0              0              1  \n",
       "1000656              0              0              0              1  "
      ]
     },
     "execution_count": 205,
     "metadata": {},
     "output_type": "execute_result"
    }
   ],
   "source": [
    "agg_contract_data.head()"
   ]
  },
  {
   "cell_type": "markdown",
   "metadata": {},
   "source": [
    "# Multi-Label classifier built using Logistic Regression complemented by Classifier Chains"
   ]
  },
  {
   "cell_type": "code",
   "execution_count": 206,
   "metadata": {
    "collapsed": true
   },
   "outputs": [],
   "source": [
    "Alldata = pd.concat([agg_contract_data, agg_client_data], axis=1)"
   ]
  },
  {
   "cell_type": "code",
   "execution_count": 207,
   "metadata": {},
   "outputs": [
    {
     "data": {
      "text/html": [
       "<div>\n",
       "<style>\n",
       "    .dataframe thead tr:only-child th {\n",
       "        text-align: right;\n",
       "    }\n",
       "\n",
       "    .dataframe thead th {\n",
       "        text-align: left;\n",
       "    }\n",
       "\n",
       "    .dataframe tbody tr th {\n",
       "        vertical-align: top;\n",
       "    }\n",
       "</style>\n",
       "<table border=\"1\" class=\"dataframe\">\n",
       "  <thead>\n",
       "    <tr style=\"text-align: right;\">\n",
       "      <th></th>\n",
       "      <th>Assurance Vie</th>\n",
       "      <th>Credit Immobilier</th>\n",
       "      <th>Livret A</th>\n",
       "      <th>PEA</th>\n",
       "      <th>ONGOING_0</th>\n",
       "      <th>ONGOING_1</th>\n",
       "      <th>ONGOING_2</th>\n",
       "      <th>ONGOING_3</th>\n",
       "      <th>ONGOING_4</th>\n",
       "      <th>SOLDE_Groupe1</th>\n",
       "      <th>...</th>\n",
       "      <th>Vieux</th>\n",
       "      <th>Artisan</th>\n",
       "      <th>Cadre</th>\n",
       "      <th>Etudiant</th>\n",
       "      <th>Profession liberale</th>\n",
       "      <th>Retraite</th>\n",
       "      <th>REVENUS_Groupe1</th>\n",
       "      <th>REVENUS_Groupe2</th>\n",
       "      <th>REVENUS_Groupe3</th>\n",
       "      <th>REVENUS_Groupe4</th>\n",
       "    </tr>\n",
       "    <tr>\n",
       "      <th>ID</th>\n",
       "      <th></th>\n",
       "      <th></th>\n",
       "      <th></th>\n",
       "      <th></th>\n",
       "      <th></th>\n",
       "      <th></th>\n",
       "      <th></th>\n",
       "      <th></th>\n",
       "      <th></th>\n",
       "      <th></th>\n",
       "      <th></th>\n",
       "      <th></th>\n",
       "      <th></th>\n",
       "      <th></th>\n",
       "      <th></th>\n",
       "      <th></th>\n",
       "      <th></th>\n",
       "      <th></th>\n",
       "      <th></th>\n",
       "      <th></th>\n",
       "      <th></th>\n",
       "    </tr>\n",
       "  </thead>\n",
       "  <tbody>\n",
       "    <tr>\n",
       "      <th>1000076</th>\n",
       "      <td>0</td>\n",
       "      <td>0</td>\n",
       "      <td>0</td>\n",
       "      <td>1</td>\n",
       "      <td>0</td>\n",
       "      <td>1</td>\n",
       "      <td>0</td>\n",
       "      <td>0</td>\n",
       "      <td>0</td>\n",
       "      <td>0</td>\n",
       "      <td>...</td>\n",
       "      <td>0</td>\n",
       "      <td>0</td>\n",
       "      <td>1</td>\n",
       "      <td>0</td>\n",
       "      <td>0</td>\n",
       "      <td>0</td>\n",
       "      <td>0</td>\n",
       "      <td>0</td>\n",
       "      <td>0</td>\n",
       "      <td>1</td>\n",
       "    </tr>\n",
       "    <tr>\n",
       "      <th>1000409</th>\n",
       "      <td>0</td>\n",
       "      <td>0</td>\n",
       "      <td>1</td>\n",
       "      <td>0</td>\n",
       "      <td>0</td>\n",
       "      <td>1</td>\n",
       "      <td>0</td>\n",
       "      <td>0</td>\n",
       "      <td>0</td>\n",
       "      <td>0</td>\n",
       "      <td>...</td>\n",
       "      <td>0</td>\n",
       "      <td>0</td>\n",
       "      <td>1</td>\n",
       "      <td>0</td>\n",
       "      <td>0</td>\n",
       "      <td>0</td>\n",
       "      <td>0</td>\n",
       "      <td>0</td>\n",
       "      <td>1</td>\n",
       "      <td>0</td>\n",
       "    </tr>\n",
       "    <tr>\n",
       "      <th>1000537</th>\n",
       "      <td>1</td>\n",
       "      <td>0</td>\n",
       "      <td>1</td>\n",
       "      <td>0</td>\n",
       "      <td>0</td>\n",
       "      <td>0</td>\n",
       "      <td>1</td>\n",
       "      <td>0</td>\n",
       "      <td>0</td>\n",
       "      <td>0</td>\n",
       "      <td>...</td>\n",
       "      <td>0</td>\n",
       "      <td>0</td>\n",
       "      <td>0</td>\n",
       "      <td>0</td>\n",
       "      <td>1</td>\n",
       "      <td>0</td>\n",
       "      <td>0</td>\n",
       "      <td>0</td>\n",
       "      <td>0</td>\n",
       "      <td>1</td>\n",
       "    </tr>\n",
       "    <tr>\n",
       "      <th>1000568</th>\n",
       "      <td>1</td>\n",
       "      <td>0</td>\n",
       "      <td>0</td>\n",
       "      <td>0</td>\n",
       "      <td>0</td>\n",
       "      <td>1</td>\n",
       "      <td>0</td>\n",
       "      <td>0</td>\n",
       "      <td>0</td>\n",
       "      <td>0</td>\n",
       "      <td>...</td>\n",
       "      <td>0</td>\n",
       "      <td>0</td>\n",
       "      <td>1</td>\n",
       "      <td>0</td>\n",
       "      <td>0</td>\n",
       "      <td>0</td>\n",
       "      <td>0</td>\n",
       "      <td>0</td>\n",
       "      <td>0</td>\n",
       "      <td>1</td>\n",
       "    </tr>\n",
       "    <tr>\n",
       "      <th>1000656</th>\n",
       "      <td>1</td>\n",
       "      <td>0</td>\n",
       "      <td>1</td>\n",
       "      <td>0</td>\n",
       "      <td>0</td>\n",
       "      <td>1</td>\n",
       "      <td>0</td>\n",
       "      <td>0</td>\n",
       "      <td>0</td>\n",
       "      <td>0</td>\n",
       "      <td>...</td>\n",
       "      <td>0</td>\n",
       "      <td>0</td>\n",
       "      <td>0</td>\n",
       "      <td>0</td>\n",
       "      <td>0</td>\n",
       "      <td>1</td>\n",
       "      <td>1</td>\n",
       "      <td>0</td>\n",
       "      <td>0</td>\n",
       "      <td>0</td>\n",
       "    </tr>\n",
       "  </tbody>\n",
       "</table>\n",
       "<p>5 rows × 28 columns</p>\n",
       "</div>"
      ],
      "text/plain": [
       "         Assurance Vie  Credit Immobilier  Livret A  PEA  ONGOING_0  \\\n",
       "ID                                                                    \n",
       "1000076              0                  0         0    1          0   \n",
       "1000409              0                  0         1    0          0   \n",
       "1000537              1                  0         1    0          0   \n",
       "1000568              1                  0         0    0          0   \n",
       "1000656              1                  0         1    0          0   \n",
       "\n",
       "         ONGOING_1  ONGOING_2  ONGOING_3  ONGOING_4  SOLDE_Groupe1  \\\n",
       "ID                                                                   \n",
       "1000076          1          0          0          0              0   \n",
       "1000409          1          0          0          0              0   \n",
       "1000537          0          1          0          0              0   \n",
       "1000568          1          0          0          0              0   \n",
       "1000656          1          0          0          0              0   \n",
       "\n",
       "              ...         Vieux  Artisan  Cadre  Etudiant  \\\n",
       "ID            ...                                           \n",
       "1000076       ...             0        0      1         0   \n",
       "1000409       ...             0        0      1         0   \n",
       "1000537       ...             0        0      0         0   \n",
       "1000568       ...             0        0      1         0   \n",
       "1000656       ...             0        0      0         0   \n",
       "\n",
       "         Profession liberale  Retraite  REVENUS_Groupe1  REVENUS_Groupe2  \\\n",
       "ID                                                                         \n",
       "1000076                    0         0                0                0   \n",
       "1000409                    0         0                0                0   \n",
       "1000537                    1         0                0                0   \n",
       "1000568                    0         0                0                0   \n",
       "1000656                    0         1                1                0   \n",
       "\n",
       "         REVENUS_Groupe3  REVENUS_Groupe4  \n",
       "ID                                         \n",
       "1000076                0                1  \n",
       "1000409                1                0  \n",
       "1000537                0                1  \n",
       "1000568                0                1  \n",
       "1000656                0                0  \n",
       "\n",
       "[5 rows x 28 columns]"
      ]
     },
     "execution_count": 207,
     "metadata": {},
     "output_type": "execute_result"
    }
   ],
   "source": [
    "Alldata.head()"
   ]
  },
  {
   "cell_type": "code",
   "execution_count": 208,
   "metadata": {},
   "outputs": [
    {
     "data": {
      "image/png": "[encoded data removed]",
      "text/plain": [
       "<matplotlib.figure.Figure at 0x11682a160>"
      ]
     },
     "metadata": {},
     "output_type": "display_data"
    }
   ],
   "source": [
    "correlat_matrix = Alldata.corr().round(2) \n",
    "f, ax = plt.subplots(figsize=(12, 10))\n",
    "sns.heatmap(correlat_matrix, center=0, vmin=0, vmax=1, cmap = 'icefire_r', linewidths=2.0, annot=True, ax=ax); \n",
    "plt.show()"
   ]
  },
  {
   "cell_type": "code",
   "execution_count": 209,
   "metadata": {},
   "outputs": [],
   "source": [
    "#Setting up the dataset for subjecting it to Algorithms\n",
    "from sklearn.model_selection import train_test_split\n",
    "\n",
    "y_Assurance= Alldata[[\"Assurance Vie\", \"Credit Immobilier\", \"Livret A\", \"PEA\"]]\n",
    "x_Assurance= Alldata.drop([\"Assurance Vie\", \"Credit Immobilier\", \"Livret A\", \"PEA\", \"DET_VOITURE\" ], axis = 1 )\n",
    "X_train1, X_test1, Y_train1, Y_test1= train_test_split(x_Assurance, y_Assurance, test_size=0.2, random_state=0)"
   ]
  },
  {
   "cell_type": "code",
   "execution_count": 210,
   "metadata": {},
   "outputs": [
    {
     "data": {
      "text/plain": [
       "(8740, 24)"
      ]
     },
     "execution_count": 210,
     "metadata": {},
     "output_type": "execute_result"
    }
   ],
   "source": [
    "X_train1.shape"
   ]
  },
  {
   "cell_type": "code",
   "execution_count": 211,
   "metadata": {},
   "outputs": [
    {
     "data": {
      "text/plain": [
       "(2186, 24)"
      ]
     },
     "execution_count": 211,
     "metadata": {},
     "output_type": "execute_result"
    }
   ],
   "source": [
    "X_test1.shape"
   ]
  },
  {
   "cell_type": "code",
   "execution_count": 212,
   "metadata": {},
   "outputs": [
    {
     "data": {
      "text/plain": [
       "(8740, 4)"
      ]
     },
     "execution_count": 212,
     "metadata": {},
     "output_type": "execute_result"
    }
   ],
   "source": [
    "Y_train1.shape"
   ]
  },
  {
   "cell_type": "code",
   "execution_count": 213,
   "metadata": {
    "scrolled": false
   },
   "outputs": [
    {
     "name": "stdout",
     "output_type": "stream",
     "text": [
      "\n",
      "\n",
      "... Processing Assurance Vie\n",
      "Training Accuracy is 0.8195652173913044\n",
      "Testing Accuracy is 0.7795059469350412\n",
      "Shape of X_train is now (8740, 25)\n",
      "Shape of X_test is now (2186, 25)\n",
      "\n",
      "\n",
      "... Processing Credit Immobilier\n",
      "Training Accuracy is 0.9975972540045767\n",
      "Testing Accuracy is 0.9945105215004575\n",
      "Shape of X_train is now (8740, 26)\n",
      "Shape of X_test is now (2186, 26)\n",
      "\n",
      "\n",
      "... Processing Livret A\n",
      "Training Accuracy is 0.884324942791762\n",
      "Testing Accuracy is 0.8083257090576396\n",
      "Shape of X_train is now (8740, 27)\n",
      "Shape of X_test is now (2186, 27)\n",
      "\n",
      "\n",
      "... Processing PEA\n",
      "Training Accuracy is 0.9687643020594966\n",
      "Testing Accuracy is 0.7602927721866423\n",
      "Shape of X_train is now (8740, 28)\n",
      "Shape of X_test is now (2186, 28)\n"
     ]
    }
   ],
   "source": [
    "#Loading Algorithm Libraries\n",
    "\n",
    "from sklearn.metrics import accuracy_score\n",
    "from sklearn.ensemble import RandomForestClassifier\n",
    "import time\n",
    "\n",
    "model = RandomForestClassifier(bootstrap=True, class_weight=None, criterion='gini', n_estimators = 1000, \n",
    "                               oob_score=False, random_state=None, verbose=0, warm_start=False) \n",
    "#from sklearn.linear_model import LogisticRegression\n",
    "#LogisticRegression(C = 10.0)\n",
    "\n",
    "#Creating a submissions file\n",
    "classifier_chains = pd.read_csv('.../classifier_chains.csv')\n",
    "classifier_chains = pd.DataFrame(index=Y_test1.index.copy())\n",
    "\n",
    "cols_target= [\"Assurance Vie\", \"Credit Immobilier\", \"Livret A\", \"PEA\"]\n",
    "\n",
    "def add_feature(X, feature_to_add):\n",
    "    '''\n",
    "    Returns a sparse feature matrix with the added feature.\n",
    "    The feature_to_add can also be considered a list of features.\n",
    "    '''\n",
    "    from scipy.sparse import csr_matrix, hstack\n",
    "    return hstack([X, csr_matrix(feature_to_add).T], 'csr')\n",
    "\n",
    "for label in cols_target:\n",
    "    print('\\n')\n",
    "    print('... Processing {}'.format(label))\n",
    "    y = Y_train1[label]\n",
    "    # train the model using X_train & y\n",
    "    model.fit(X_train1,y)\n",
    "    # compute the training accuracy\n",
    "    y_pred_X = model.predict(X_train1)\n",
    "    print('Training Accuracy is {}'.format(accuracy_score(y,y_pred_X)))\n",
    "    # make predictions from X_test\n",
    "    test_y = model.predict(X_test1)\n",
    "    #test_y_prob = model.predict_proba(X_test1)[:,1] #can be used to give a probability output\n",
    "    classifier_chains[label]= test_y\n",
    "    #Checking overall accuracy\n",
    "    y_test = Y_test1[label]\n",
    "    print('Testing Accuracy is {}'.format(accuracy_score(y_test,test_y)))\n",
    "    # chain current label to X_dtm\n",
    "    X_train1 = add_feature(X_train1, y)\n",
    "    print('Shape of X_train is now {}'.format(X_train1.shape))\n",
    "    # chain current label predictions to X_test\n",
    "    X_test1 = add_feature(X_test1, test_y)\n",
    "    print('Shape of X_test is now {}'.format(X_test1.shape))"
   ]
  },
  {
   "cell_type": "code",
   "execution_count": 214,
   "metadata": {},
   "outputs": [
    {
     "data": {
      "text/html": [
       "<div>\n",
       "<style>\n",
       "    .dataframe thead tr:only-child th {\n",
       "        text-align: right;\n",
       "    }\n",
       "\n",
       "    .dataframe thead th {\n",
       "        text-align: left;\n",
       "    }\n",
       "\n",
       "    .dataframe tbody tr th {\n",
       "        vertical-align: top;\n",
       "    }\n",
       "</style>\n",
       "<table border=\"1\" class=\"dataframe\">\n",
       "  <thead>\n",
       "    <tr style=\"text-align: right;\">\n",
       "      <th></th>\n",
       "      <th>Assurance Vie</th>\n",
       "      <th>Credit Immobilier</th>\n",
       "      <th>Livret A</th>\n",
       "      <th>PEA</th>\n",
       "    </tr>\n",
       "    <tr>\n",
       "      <th>ID</th>\n",
       "      <th></th>\n",
       "      <th></th>\n",
       "      <th></th>\n",
       "      <th></th>\n",
       "    </tr>\n",
       "  </thead>\n",
       "  <tbody>\n",
       "    <tr>\n",
       "      <th>1523927</th>\n",
       "      <td>0</td>\n",
       "      <td>0</td>\n",
       "      <td>1</td>\n",
       "      <td>0</td>\n",
       "    </tr>\n",
       "    <tr>\n",
       "      <th>2997250</th>\n",
       "      <td>0</td>\n",
       "      <td>0</td>\n",
       "      <td>1</td>\n",
       "      <td>0</td>\n",
       "    </tr>\n",
       "    <tr>\n",
       "      <th>1938609</th>\n",
       "      <td>0</td>\n",
       "      <td>0</td>\n",
       "      <td>1</td>\n",
       "      <td>1</td>\n",
       "    </tr>\n",
       "    <tr>\n",
       "      <th>2257604</th>\n",
       "      <td>0</td>\n",
       "      <td>0</td>\n",
       "      <td>1</td>\n",
       "      <td>0</td>\n",
       "    </tr>\n",
       "    <tr>\n",
       "      <th>2563279</th>\n",
       "      <td>1</td>\n",
       "      <td>0</td>\n",
       "      <td>1</td>\n",
       "      <td>1</td>\n",
       "    </tr>\n",
       "  </tbody>\n",
       "</table>\n",
       "</div>"
      ],
      "text/plain": [
       "         Assurance Vie  Credit Immobilier  Livret A  PEA\n",
       "ID                                                      \n",
       "1523927              0                  0         1    0\n",
       "2997250              0                  0         1    0\n",
       "1938609              0                  0         1    1\n",
       "2257604              0                  0         1    0\n",
       "2563279              1                  0         1    1"
      ]
     },
     "execution_count": 214,
     "metadata": {},
     "output_type": "execute_result"
    }
   ],
   "source": [
    "classifier_chains.head()"
   ]
  },
  {
   "cell_type": "code",
   "execution_count": 219,
   "metadata": {},
   "outputs": [
    {
     "name": "stdout",
     "output_type": "stream",
     "text": [
      "Feature ranking:\n",
      "1. feature 24 (0.325145)\n",
      "2. feature 26 (0.152053)\n",
      "3. feature 9 (0.124523)\n",
      "4. feature 2 (0.069468)\n",
      "5. feature 3 (0.052673)\n",
      "6. feature 7 (0.046097)\n",
      "7. feature 8 (0.031659)\n",
      "8. feature 0 (0.031448)\n",
      "9. feature 1 (0.025044)\n",
      "10. feature 6 (0.017613)\n",
      "11. feature 10 (0.014867)\n",
      "12. feature 5 (0.013495)\n",
      "13. feature 19 (0.012247)\n",
      "14. feature 25 (0.010002)\n",
      "15. feature 20 (0.008525)\n",
      "16. feature 13 (0.008427)\n",
      "17. feature 11 (0.007834)\n",
      "18. feature 17 (0.007416)\n",
      "19. feature 14 (0.006394)\n",
      "20. feature 12 (0.006115)\n",
      "21. feature 23 (0.005784)\n",
      "22. feature 18 (0.004957)\n",
      "23. feature 22 (0.004836)\n",
      "24. feature 15 (0.004409)\n",
      "25. feature 16 (0.004344)\n",
      "26. feature 21 (0.003791)\n",
      "27. feature 4 (0.000833)\n"
     ]
    }
   ],
   "source": [
    "importances = model.feature_importances_\n",
    "std = np.std([tree.feature_importances_ for tree in model.estimators_], axis=0)\n",
    "indices = np.argsort(importances)[::-1]\n",
    "\n",
    "# Print the feature ranking\n",
    "print(\"Feature ranking:\")\n",
    "\n",
    "for f in range(0,27):\n",
    "    print(\"%d. feature %d (%f)\" % (f + 1, indices[f], importances[indices[f]]))"
   ]
  }
 ],
 "metadata": {
  "kernelspec": {
   "display_name": "Python 3",
   "language": "python",
   "name": "python3"
  },
  "language_info": {
   "codemirror_mode": {
    "name": "ipython",
    "version": 3
   },
   "file_extension": ".py",
   "mimetype": "text/x-python",
   "name": "python",
   "nbconvert_exporter": "python",
   "pygments_lexer": "ipython3",
   "version": "3.6.5"
  }
 },
 "nbformat": 4,
 "nbformat_minor": 2
}
